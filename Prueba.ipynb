{
  "nbformat": 4,
  "nbformat_minor": 0,
  "metadata": {
    "colab": {
      "provenance": [],
      "collapsed_sections": [
        "Y2R3POuPQk0j",
        "EW4DHXyyQrz6",
        "If5XnwvpQrez",
        "RQqrKsjqQrJC",
        "au70wARsQq-q",
        "yYA_Sf55Qq76"
      ]
    },
    "kernelspec": {
      "name": "python3",
      "display_name": "Python 3"
    },
    "language_info": {
      "name": "python"
    }
  },
  "cells": [
    {
      "cell_type": "markdown",
      "source": [
        "#Ejercicio 1"
      ],
      "metadata": {
        "id": "Y2R3POuPQk0j"
      }
    },
    {
      "cell_type": "code",
      "source": [
        "print('Un número: ')\n",
        "nN1=int(input())\n",
        "print('Otro número:')\n",
        "nN2=int(input())\n",
        "div=(nN1/nN2)\n",
        "m=(nN1%nN2)\n",
        "Resultado=(f'La division exacta. Tu resultado es cociente={int(div)}') if m==0  else (f'La division no es exacta. El resultado es : cociente={div} y el resto= {m}')\n",
        "print(Resultado)"
      ],
      "metadata": {
        "colab": {
          "base_uri": "https://localhost:8080/"
        },
        "id": "yEXZ4Zz5UvNB",
        "outputId": "70dd3e0d-e0b4-4551-9ade-21843014bcc7"
      },
      "execution_count": 13,
      "outputs": [
        {
          "output_type": "stream",
          "name": "stdout",
          "text": [
            "Un número: \n",
            "4\n",
            "Otro número:\n",
            "2\n",
            "La division exacta. Tu resultado es cociente=2\n"
          ]
        }
      ]
    },
    {
      "cell_type": "markdown",
      "source": [
        "#Ejercicio 2\n"
      ],
      "metadata": {
        "id": "EW4DHXyyQrz6"
      }
    },
    {
      "cell_type": "code",
      "source": [
        "#Ejercicio 2\n",
        "print(\"Hola, miraremo si un número es multiplo de otro\")\n",
        "\n",
        "primero=int(input(\"coloca el primer número: \"))\n",
        "segundo=int(input(\"coloca el segundo número: \"))\n",
        "rta=(primero%segundo)\n",
        "R=\"Son múltiplos\" if rta==0 else \"No son múltiplos5\"\n",
        "print(R)"
      ],
      "metadata": {
        "colab": {
          "base_uri": "https://localhost:8080/"
        },
        "id": "_YpKmrfnRQYJ",
        "outputId": "e9012ac4-f6bc-440d-ef97-a817851d1ade"
      },
      "execution_count": 3,
      "outputs": [
        {
          "output_type": "stream",
          "name": "stdout",
          "text": [
            "Hola, miraremo si un número es multiplo de otro\n",
            "coloca el primer número: 2\n",
            "coloca el segundo número: 5\n",
            "No son múltiplos\n"
          ]
        }
      ]
    },
    {
      "cell_type": "markdown",
      "source": [
        "#Ejercicio 3\n",
        "  "
      ],
      "metadata": {
        "id": "vwbzI1OzQrwz"
      }
    },
    {
      "cell_type": "code",
      "source": [
        "hjo1 = int(input(\"Ingresa por favor, la edad del primer hermano: \"))\n",
        "hjo2 = int(input(\"Ingresa por favor, la edad del segundo hermano: \"))\n",
        "hjo3 = int(input(\"Ingresa por favor, la edad del tercer hermano: \"))\n",
        "\n",
        "orden = \"primer hermano es el mayor\"  if hjo1>hjo2 and hjo1>hjo3 else  \"segundo hermano es el mayor\", \"tercer hermano es el mayor\" if hjo3>hjo1 and hjo3>hjo2 else  \"primer y segundo hermano son gemelos\" if hjo1==hjo2 else \"El segundo y tercer hermano son gemelos\" if hjo2==hjo3 else \"El primero y tercer hemano son gemelos \" if hjo1==hjo3 else \"son trillizos\" if hjo1==hjo2==hjo3 else \"no son trillizos\"\n",
        "print(orden)"
      ],
      "metadata": {
        "id": "FxRQPy8AVe_t"
      },
      "execution_count": null,
      "outputs": []
    },
    {
      "cell_type": "markdown",
      "source": [
        "#Ejercicio 4\n"
      ],
      "metadata": {
        "id": "CNSVKbOgQrua"
      }
    },
    {
      "cell_type": "code",
      "source": [
        "N=str(input(\"coloca su nombre\"))\n",
        "P=int(input(\"coloca su patrimonio bruto al término del año 2021 sin puntos ni comas\"))\n",
        "I=int(input(\"coloca sus ingresos totales del ejercicio gravable para el año 2022 sin puntos ni comas\"))\n",
        "T=int(input(\"coloca su gastos por medio de tarjeta de crédito para el año 2022 sin puntos ni comas \"))\n",
        "C=int(input(\"coloca el valor total de las compras y consumos para el  año 2022 sin puntos ni comas\"))\n",
        "C=int(input(\"coloca el valor total acumulado de consignaciones bancarias, depósitos o inversiones financieras para el  año 2022 sin puntos ni comas \"))\n",
        "D=\"Ud\",N,\"Debe declarar Renta para el año 2022\",\"no olvide realizarla con ayuda de su contador de confianza\" if P >= 163386000 or I >= 50831000 or T >= 50831000 or C >= 50831000 or C >= 50831000 else \"usted\",N,\"No debe presentar Declaracion de Renta para el año 2022\"\n",
        "print(D)"
      ],
      "metadata": {
        "id": "tuF6_90wWcJT"
      },
      "execution_count": null,
      "outputs": []
    },
    {
      "cell_type": "markdown",
      "source": [
        "#Ejercicio 5"
      ],
      "metadata": {
        "id": "gH7WSUsxQrry"
      }
    },
    {
      "cell_type": "markdown",
      "source": [
        "#Ejercicio 6\n"
      ],
      "metadata": {
        "id": "3D51hYjhQrkD"
      }
    },
    {
      "cell_type": "markdown",
      "source": [
        "#Ejercicio 7"
      ],
      "metadata": {
        "id": "LKVbyth7Qrgy"
      }
    },
    {
      "cell_type": "markdown",
      "source": [
        "#Ejercicio 8\n"
      ],
      "metadata": {
        "id": "If5XnwvpQrez"
      }
    },
    {
      "cell_type": "code",
      "source": [
        "nb= int(input(\"Vamos a mirar si tu número es bisiesto\"))\n",
        "print(\"Tu número si es bisiesto\")if (nb%4==0 and nb%100!=0) else print(\"Tu número no es bisiesto\")"
      ],
      "metadata": {
        "id": "5ydG9qr3RzQv"
      },
      "execution_count": null,
      "outputs": []
    },
    {
      "cell_type": "markdown",
      "source": [
        "#Ejercicio 9\n"
      ],
      "metadata": {
        "id": "H-6qyi2jQrby"
      }
    },
    {
      "cell_type": "markdown",
      "source": [
        "#Ejercicio 10\n"
      ],
      "metadata": {
        "id": "-7QR3oFCQrZK"
      }
    },
    {
      "cell_type": "markdown",
      "source": [
        "#Ejercicio 11"
      ],
      "metadata": {
        "id": "dBerKY-bQrWi"
      }
    },
    {
      "cell_type": "markdown",
      "source": [
        "#Ejercicio 12"
      ],
      "metadata": {
        "id": "YFdOo8jlQrUC"
      }
    },
    {
      "cell_type": "markdown",
      "source": [
        "#Ejercicio 13"
      ],
      "metadata": {
        "id": "hFQmfl9dQrQy"
      }
    },
    {
      "cell_type": "markdown",
      "source": [
        "#Ejercicio 14"
      ],
      "metadata": {
        "id": "9P_rgFlbQrOS"
      }
    },
    {
      "cell_type": "markdown",
      "source": [
        "#Ejercicio 15"
      ],
      "metadata": {
        "id": "QF55ZMGSQrLq"
      }
    },
    {
      "cell_type": "code",
      "source": [
        "tt = int(input(\"\")) \n",
        "Resultado= abs(tt) if tt<0 else (f\"{tt}\")\n",
        "print(Resultado)"
      ],
      "metadata": {
        "id": "sjBwQXASWLAL"
      },
      "execution_count": null,
      "outputs": []
    },
    {
      "cell_type": "markdown",
      "source": [
        "#Ejercicio 16"
      ],
      "metadata": {
        "id": "RQqrKsjqQrJC"
      }
    },
    {
      "cell_type": "code",
      "source": [
        "#Ejercicio 16\n",
        "print(\"Ingresa 2 usuarios\") \n",
        "user1=input(\" usuario 1\") \n",
        "user2=input(\" usuario 2\")\n",
        "if user1[0:1]==user2[0:1]:print(\"Coincidencia\")  \n",
        "else:print(\"No hay coincidencia\")"
      ],
      "metadata": {
        "id": "Uw5nvc-8RJFq"
      },
      "execution_count": null,
      "outputs": []
    },
    {
      "cell_type": "markdown",
      "source": [
        "#Ejercicio 17"
      ],
      "metadata": {
        "id": "bkePnQGOQrGK"
      }
    },
    {
      "cell_type": "markdown",
      "source": [
        "#Ejercicio 18"
      ],
      "metadata": {
        "id": "1u3fbf46QrA6"
      }
    },
    {
      "cell_type": "markdown",
      "source": [
        "#Ejercicio 19"
      ],
      "metadata": {
        "id": "au70wARsQq-q"
      }
    },
    {
      "cell_type": "code",
      "source": [
        "#Ejercicio 19\n",
        "\n",
        "print(\"¿Tú palabra es palíndromo? Ingresala\")\n",
        "a=str(input(\"Ingresala aquí: \"))\n",
        "a=a.upper()\n",
        "\n",
        "rta=\"Es un palíndromo\" if (a) == (a)[::-1] else \"No es un palíndromo\"\n",
        "print(rta)"
      ],
      "metadata": {
        "colab": {
          "base_uri": "https://localhost:8080/"
        },
        "id": "fzvd4EhWRtIY",
        "outputId": "4657a5cc-c7b1-4b14-eb8a-1e416153609f"
      },
      "execution_count": 11,
      "outputs": [
        {
          "output_type": "stream",
          "name": "stdout",
          "text": [
            "¿Tú palabra es palíndromo? Ingresala\n",
            "Ingresala aquí: ssad\n",
            "No es un palíndromo\n"
          ]
        }
      ]
    },
    {
      "cell_type": "markdown",
      "source": [
        "#Ejercicio 20"
      ],
      "metadata": {
        "id": "yYA_Sf55Qq76"
      }
    },
    {
      "cell_type": "code",
      "source": [
        "print(\"¿Tú número es palíndromo? Ingresalo\")\n",
        "q=int(input(\"Ingresalo aquí: \"))\n",
        "r=\"Sí es un palíndromo\" if  str(q) == str(q)[::-1] else \"No, no es un palíndromo\"\n",
        "print(r)"
      ],
      "metadata": {
        "colab": {
          "base_uri": "https://localhost:8080/"
        },
        "id": "gxzqeYr6RcXI",
        "outputId": "c950efe3-0cf0-4f3e-e63f-5c8f384b2fd3"
      },
      "execution_count": 12,
      "outputs": [
        {
          "output_type": "stream",
          "name": "stdout",
          "text": [
            "¿Tú número es palíndromo? Ingresalo\n",
            "Ingresalo aquí: 5\n",
            "Sí es un palíndromo\n"
          ]
        }
      ]
    }
  ]
}